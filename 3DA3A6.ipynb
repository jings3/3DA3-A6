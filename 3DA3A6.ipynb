{
 "cells": [
  {
   "cell_type": "raw",
   "id": "4bc4b1ac",
   "metadata": {
    "vscode": {
     "languageId": "raw"
    }
   },
   "source": [
    "---\n",
    "title: STATS 3DA3\n",
    "subtitle: Homework Assignment 6\n",
    "author: \"Sirun Jing (400257034), Donghao Jiang (400368049)\"\n",
    "date: 04/14/2025\n",
    "format: \n",
    "  pdf:\n",
    "    number-sections: false\n",
    "    keep-tex: true\n",
    "    latex-engine: pdflatex\n",
    "    fontsize: 11pt\n",
    "    mainfont: \"Times New Roman\"\n",
    "    monofont: \"Courier New\" \n",
    "    geometry: margin=1in\n",
    "    linestretch: 1.5\n",
    "    highlight-style: tango\n",
    "    include-in-header:\n",
    "      - text: |\n",
    "          \\usepackage{fvextra} \n",
    "          \\DefineVerbatimEnvironment{Highlighting}{Verbatim}{breaklines,commandchars=\\\\\\{\\}}\n",
    "header-includes:\n",
    "   - \\usepackage{amsmath}\n",
    "   - \\usepackage{bbm}\n",
    "   - \\usepackage{array}\n",
    "   - \\usepackage{multirow}\n",
    "   - \\usepackage{graphicx}\n",
    "   - \\usepackage{float}\n",
    "   - \\usepackage{apacite}\n",
    "   - \\usepackage{natbib}\n",
    "execute: \n",
    "  echo: true\n",
    "---\n"
   ]
  },
  {
   "cell_type": "code",
   "execution_count": 71,
   "id": "c07e49d7",
   "metadata": {},
   "outputs": [],
   "source": [
    "import numpy as np\n",
    "import pandas as pd\n",
    "import matplotlib.pyplot as plt\n",
    "import seaborn as sns\n",
    "from sklearn.preprocessing import StandardScaler\n",
    "from sklearn.model_selection import train_test_split\n",
    "from sklearn.linear_model import LogisticRegression\n",
    "from sklearn.ensemble import RandomForestClassifier\n",
    "from sklearn.decomposition import PCA\n",
    "from sklearn.metrics import accuracy_score\n",
    "from sklearn import neighbors\n",
    "from sklearn.preprocessing import scale\n",
    "from sklearn.model_selection import train_test_split\n",
    "from sklearn import metrics\n",
    "from sklearn.metrics import confusion_matrix, roc_curve, roc_auc_score"
   ]
  },
  {
   "cell_type": "code",
   "execution_count": 10,
   "id": "ea551099",
   "metadata": {},
   "outputs": [],
   "source": [
    "url = \"https://raw.githubusercontent.com/PratheepaJ/datasets/refs/heads/master/ass6-dataset.csv\"\n",
    "df = pd.read_csv(url)"
   ]
  },
  {
   "cell_type": "code",
   "execution_count": 11,
   "id": "837b7005",
   "metadata": {},
   "outputs": [
    {
     "data": {
      "text/html": [
       "<div>\n",
       "<style scoped>\n",
       "    .dataframe tbody tr th:only-of-type {\n",
       "        vertical-align: middle;\n",
       "    }\n",
       "\n",
       "    .dataframe tbody tr th {\n",
       "        vertical-align: top;\n",
       "    }\n",
       "\n",
       "    .dataframe thead th {\n",
       "        text-align: right;\n",
       "    }\n",
       "</style>\n",
       "<table border=\"1\" class=\"dataframe\">\n",
       "  <thead>\n",
       "    <tr style=\"text-align: right;\">\n",
       "      <th></th>\n",
       "      <th>age</th>\n",
       "      <th>sex</th>\n",
       "      <th>cp</th>\n",
       "      <th>trestbps</th>\n",
       "      <th>chol</th>\n",
       "      <th>fbs</th>\n",
       "      <th>restecg</th>\n",
       "      <th>thalach</th>\n",
       "      <th>exang</th>\n",
       "      <th>oldpeak</th>\n",
       "      <th>slope</th>\n",
       "      <th>ca</th>\n",
       "      <th>thal</th>\n",
       "      <th>num</th>\n",
       "    </tr>\n",
       "  </thead>\n",
       "  <tbody>\n",
       "    <tr>\n",
       "      <th>0</th>\n",
       "      <td>63</td>\n",
       "      <td>1</td>\n",
       "      <td>1</td>\n",
       "      <td>145</td>\n",
       "      <td>233</td>\n",
       "      <td>1</td>\n",
       "      <td>2</td>\n",
       "      <td>150</td>\n",
       "      <td>0</td>\n",
       "      <td>2.3</td>\n",
       "      <td>3</td>\n",
       "      <td>0.0</td>\n",
       "      <td>6.0</td>\n",
       "      <td>0</td>\n",
       "    </tr>\n",
       "    <tr>\n",
       "      <th>1</th>\n",
       "      <td>67</td>\n",
       "      <td>1</td>\n",
       "      <td>4</td>\n",
       "      <td>160</td>\n",
       "      <td>286</td>\n",
       "      <td>0</td>\n",
       "      <td>2</td>\n",
       "      <td>108</td>\n",
       "      <td>1</td>\n",
       "      <td>1.5</td>\n",
       "      <td>2</td>\n",
       "      <td>3.0</td>\n",
       "      <td>3.0</td>\n",
       "      <td>2</td>\n",
       "    </tr>\n",
       "    <tr>\n",
       "      <th>2</th>\n",
       "      <td>67</td>\n",
       "      <td>1</td>\n",
       "      <td>4</td>\n",
       "      <td>120</td>\n",
       "      <td>229</td>\n",
       "      <td>0</td>\n",
       "      <td>2</td>\n",
       "      <td>129</td>\n",
       "      <td>1</td>\n",
       "      <td>2.6</td>\n",
       "      <td>2</td>\n",
       "      <td>2.0</td>\n",
       "      <td>7.0</td>\n",
       "      <td>1</td>\n",
       "    </tr>\n",
       "    <tr>\n",
       "      <th>3</th>\n",
       "      <td>37</td>\n",
       "      <td>1</td>\n",
       "      <td>3</td>\n",
       "      <td>130</td>\n",
       "      <td>250</td>\n",
       "      <td>0</td>\n",
       "      <td>0</td>\n",
       "      <td>187</td>\n",
       "      <td>0</td>\n",
       "      <td>3.5</td>\n",
       "      <td>3</td>\n",
       "      <td>0.0</td>\n",
       "      <td>3.0</td>\n",
       "      <td>0</td>\n",
       "    </tr>\n",
       "    <tr>\n",
       "      <th>4</th>\n",
       "      <td>41</td>\n",
       "      <td>0</td>\n",
       "      <td>2</td>\n",
       "      <td>130</td>\n",
       "      <td>204</td>\n",
       "      <td>0</td>\n",
       "      <td>2</td>\n",
       "      <td>172</td>\n",
       "      <td>0</td>\n",
       "      <td>1.4</td>\n",
       "      <td>1</td>\n",
       "      <td>0.0</td>\n",
       "      <td>3.0</td>\n",
       "      <td>0</td>\n",
       "    </tr>\n",
       "  </tbody>\n",
       "</table>\n",
       "</div>"
      ],
      "text/plain": [
       "   age  sex  cp  trestbps  chol  fbs  restecg  thalach  exang  oldpeak  slope  \\\n",
       "0   63    1   1       145   233    1        2      150      0      2.3      3   \n",
       "1   67    1   4       160   286    0        2      108      1      1.5      2   \n",
       "2   67    1   4       120   229    0        2      129      1      2.6      2   \n",
       "3   37    1   3       130   250    0        0      187      0      3.5      3   \n",
       "4   41    0   2       130   204    0        2      172      0      1.4      1   \n",
       "\n",
       "    ca  thal  num  \n",
       "0  0.0   6.0    0  \n",
       "1  3.0   3.0    2  \n",
       "2  2.0   7.0    1  \n",
       "3  0.0   3.0    0  \n",
       "4  0.0   3.0    0  "
      ]
     },
     "execution_count": 11,
     "metadata": {},
     "output_type": "execute_result"
    }
   ],
   "source": [
    "df.head()"
   ]
  },
  {
   "cell_type": "markdown",
   "id": "1bc029d7",
   "metadata": {},
   "source": [
    "### Question 1    \n",
    "According to the dataset description, it includes 303 observations with 13 features, including age, sex, chest pain type, resting blood pressure, cholesterol levels, fasting blood sugar, electrocardiographic results, and others. The target value is num, we should transform it to a binary with value 0-4 to label:\n",
    "\n",
    "`1`: presence of heart disease(1-4)\n",
    "\n",
    "`0`: no heart disease(0) \n",
    "\n",
    "Following that, we can figure out the binary classification prediction, if the patient has heart disease or not.\n",
    "\n",
    "### Question 2"
   ]
  },
  {
   "cell_type": "code",
   "execution_count": 12,
   "id": "59352d1e",
   "metadata": {},
   "outputs": [
    {
     "name": "stdout",
     "output_type": "stream",
     "text": [
      "<class 'pandas.core.frame.DataFrame'>\n",
      "RangeIndex: 303 entries, 0 to 302\n",
      "Data columns (total 14 columns):\n",
      " #   Column    Non-Null Count  Dtype  \n",
      "---  ------    --------------  -----  \n",
      " 0   age       303 non-null    int64  \n",
      " 1   sex       303 non-null    int64  \n",
      " 2   cp        303 non-null    int64  \n",
      " 3   trestbps  303 non-null    int64  \n",
      " 4   chol      303 non-null    int64  \n",
      " 5   fbs       303 non-null    int64  \n",
      " 6   restecg   303 non-null    int64  \n",
      " 7   thalach   303 non-null    int64  \n",
      " 8   exang     303 non-null    int64  \n",
      " 9   oldpeak   303 non-null    float64\n",
      " 10  slope     303 non-null    int64  \n",
      " 11  ca        299 non-null    float64\n",
      " 12  thal      301 non-null    float64\n",
      " 13  num       303 non-null    int64  \n",
      "dtypes: float64(3), int64(11)\n",
      "memory usage: 33.3 KB\n"
     ]
    }
   ],
   "source": [
    "df.info()"
   ]
  },
  {
   "cell_type": "code",
   "execution_count": 13,
   "id": "4f387080",
   "metadata": {},
   "outputs": [],
   "source": [
    "categorical_cols = ['sex', 'cp', 'fbs', 'restecg', 'exang', 'slope', 'ca', 'thal']\n",
    "for col in categorical_cols:\n",
    "    df[col] = df[col].astype('category')"
   ]
  },
  {
   "cell_type": "code",
   "execution_count": 14,
   "id": "783d8db2",
   "metadata": {},
   "outputs": [
    {
     "name": "stdout",
     "output_type": "stream",
     "text": [
      "<class 'pandas.core.frame.DataFrame'>\n",
      "RangeIndex: 303 entries, 0 to 302\n",
      "Data columns (total 14 columns):\n",
      " #   Column    Non-Null Count  Dtype   \n",
      "---  ------    --------------  -----   \n",
      " 0   age       303 non-null    int64   \n",
      " 1   sex       303 non-null    category\n",
      " 2   cp        303 non-null    category\n",
      " 3   trestbps  303 non-null    int64   \n",
      " 4   chol      303 non-null    int64   \n",
      " 5   fbs       303 non-null    category\n",
      " 6   restecg   303 non-null    category\n",
      " 7   thalach   303 non-null    int64   \n",
      " 8   exang     303 non-null    category\n",
      " 9   oldpeak   303 non-null    float64 \n",
      " 10  slope     303 non-null    category\n",
      " 11  ca        299 non-null    category\n",
      " 12  thal      301 non-null    category\n",
      " 13  num       303 non-null    int64   \n",
      "dtypes: category(8), float64(1), int64(5)\n",
      "memory usage: 17.8 KB\n"
     ]
    }
   ],
   "source": [
    "df.info()"
   ]
  },
  {
   "cell_type": "code",
   "execution_count": 15,
   "id": "82c898fe",
   "metadata": {},
   "outputs": [],
   "source": [
    "continuous_cols = ['age', 'trestbps', 'chol', 'thalach', 'oldpeak']\n",
    "scaler = StandardScaler()\n",
    "df[continuous_cols] = scaler.fit_transform(df[continuous_cols])"
   ]
  },
  {
   "cell_type": "code",
   "execution_count": 16,
   "id": "a2c4d2e0",
   "metadata": {},
   "outputs": [
    {
     "name": "stdout",
     "output_type": "stream",
     "text": [
      "<class 'pandas.core.frame.DataFrame'>\n",
      "RangeIndex: 303 entries, 0 to 302\n",
      "Data columns (total 14 columns):\n",
      " #   Column    Non-Null Count  Dtype   \n",
      "---  ------    --------------  -----   \n",
      " 0   age       303 non-null    float64 \n",
      " 1   sex       303 non-null    category\n",
      " 2   cp        303 non-null    category\n",
      " 3   trestbps  303 non-null    float64 \n",
      " 4   chol      303 non-null    float64 \n",
      " 5   fbs       303 non-null    category\n",
      " 6   restecg   303 non-null    category\n",
      " 7   thalach   303 non-null    float64 \n",
      " 8   exang     303 non-null    category\n",
      " 9   oldpeak   303 non-null    float64 \n",
      " 10  slope     303 non-null    category\n",
      " 11  ca        299 non-null    category\n",
      " 12  thal      301 non-null    category\n",
      " 13  num       303 non-null    int64   \n",
      "dtypes: category(8), float64(5), int64(1)\n",
      "memory usage: 17.8 KB\n"
     ]
    }
   ],
   "source": [
    "df.info()"
   ]
  },
  {
   "cell_type": "markdown",
   "id": "7e4e5c33",
   "metadata": {},
   "source": [
    "### Question 3¶"
   ]
  },
  {
   "cell_type": "code",
   "execution_count": 17,
   "id": "f316dba4",
   "metadata": {},
   "outputs": [
    {
     "data": {
      "text/html": [
       "<div>\n",
       "<style scoped>\n",
       "    .dataframe tbody tr th:only-of-type {\n",
       "        vertical-align: middle;\n",
       "    }\n",
       "\n",
       "    .dataframe tbody tr th {\n",
       "        vertical-align: top;\n",
       "    }\n",
       "\n",
       "    .dataframe thead th {\n",
       "        text-align: right;\n",
       "    }\n",
       "</style>\n",
       "<table border=\"1\" class=\"dataframe\">\n",
       "  <thead>\n",
       "    <tr style=\"text-align: right;\">\n",
       "      <th></th>\n",
       "      <th>age</th>\n",
       "      <th>sex</th>\n",
       "      <th>cp</th>\n",
       "      <th>trestbps</th>\n",
       "      <th>chol</th>\n",
       "      <th>fbs</th>\n",
       "      <th>restecg</th>\n",
       "      <th>thalach</th>\n",
       "      <th>exang</th>\n",
       "      <th>oldpeak</th>\n",
       "      <th>slope</th>\n",
       "      <th>ca</th>\n",
       "      <th>thal</th>\n",
       "      <th>num</th>\n",
       "    </tr>\n",
       "  </thead>\n",
       "  <tbody>\n",
       "    <tr>\n",
       "      <th>0</th>\n",
       "      <td>0.948726</td>\n",
       "      <td>1</td>\n",
       "      <td>1</td>\n",
       "      <td>0.757525</td>\n",
       "      <td>-0.264900</td>\n",
       "      <td>1</td>\n",
       "      <td>2</td>\n",
       "      <td>0.017197</td>\n",
       "      <td>0</td>\n",
       "      <td>1.087338</td>\n",
       "      <td>3</td>\n",
       "      <td>0.0</td>\n",
       "      <td>6.0</td>\n",
       "      <td>0</td>\n",
       "    </tr>\n",
       "    <tr>\n",
       "      <th>1</th>\n",
       "      <td>1.392002</td>\n",
       "      <td>1</td>\n",
       "      <td>4</td>\n",
       "      <td>1.611220</td>\n",
       "      <td>0.760415</td>\n",
       "      <td>0</td>\n",
       "      <td>2</td>\n",
       "      <td>-1.821905</td>\n",
       "      <td>1</td>\n",
       "      <td>0.397182</td>\n",
       "      <td>2</td>\n",
       "      <td>3.0</td>\n",
       "      <td>3.0</td>\n",
       "      <td>2</td>\n",
       "    </tr>\n",
       "    <tr>\n",
       "      <th>2</th>\n",
       "      <td>1.392002</td>\n",
       "      <td>1</td>\n",
       "      <td>4</td>\n",
       "      <td>-0.665300</td>\n",
       "      <td>-0.342283</td>\n",
       "      <td>0</td>\n",
       "      <td>2</td>\n",
       "      <td>-0.902354</td>\n",
       "      <td>1</td>\n",
       "      <td>1.346147</td>\n",
       "      <td>2</td>\n",
       "      <td>2.0</td>\n",
       "      <td>7.0</td>\n",
       "      <td>1</td>\n",
       "    </tr>\n",
       "    <tr>\n",
       "      <th>3</th>\n",
       "      <td>-1.932564</td>\n",
       "      <td>1</td>\n",
       "      <td>3</td>\n",
       "      <td>-0.096170</td>\n",
       "      <td>0.063974</td>\n",
       "      <td>0</td>\n",
       "      <td>0</td>\n",
       "      <td>1.637359</td>\n",
       "      <td>0</td>\n",
       "      <td>2.122573</td>\n",
       "      <td>3</td>\n",
       "      <td>0.0</td>\n",
       "      <td>3.0</td>\n",
       "      <td>0</td>\n",
       "    </tr>\n",
       "    <tr>\n",
       "      <th>4</th>\n",
       "      <td>-1.489288</td>\n",
       "      <td>0</td>\n",
       "      <td>2</td>\n",
       "      <td>-0.096170</td>\n",
       "      <td>-0.825922</td>\n",
       "      <td>0</td>\n",
       "      <td>2</td>\n",
       "      <td>0.980537</td>\n",
       "      <td>0</td>\n",
       "      <td>0.310912</td>\n",
       "      <td>1</td>\n",
       "      <td>0.0</td>\n",
       "      <td>3.0</td>\n",
       "      <td>0</td>\n",
       "    </tr>\n",
       "  </tbody>\n",
       "</table>\n",
       "</div>"
      ],
      "text/plain": [
       "        age sex cp  trestbps      chol fbs restecg   thalach exang   oldpeak  \\\n",
       "0  0.948726   1  1  0.757525 -0.264900   1       2  0.017197     0  1.087338   \n",
       "1  1.392002   1  4  1.611220  0.760415   0       2 -1.821905     1  0.397182   \n",
       "2  1.392002   1  4 -0.665300 -0.342283   0       2 -0.902354     1  1.346147   \n",
       "3 -1.932564   1  3 -0.096170  0.063974   0       0  1.637359     0  2.122573   \n",
       "4 -1.489288   0  2 -0.096170 -0.825922   0       2  0.980537     0  0.310912   \n",
       "\n",
       "  slope   ca thal  num  \n",
       "0     3  0.0  6.0    0  \n",
       "1     2  3.0  3.0    2  \n",
       "2     2  2.0  7.0    1  \n",
       "3     3  0.0  3.0    0  \n",
       "4     1  0.0  3.0    0  "
      ]
     },
     "execution_count": 17,
     "metadata": {},
     "output_type": "execute_result"
    }
   ],
   "source": [
    "df.head()"
   ]
  },
  {
   "cell_type": "code",
   "execution_count": 18,
   "id": "6c7b54ef",
   "metadata": {},
   "outputs": [
    {
     "data": {
      "text/plain": [
       "(303, 14)"
      ]
     },
     "execution_count": 18,
     "metadata": {},
     "output_type": "execute_result"
    }
   ],
   "source": [
    "df.shape"
   ]
  },
  {
   "cell_type": "code",
   "execution_count": 19,
   "id": "ba4fa4f5",
   "metadata": {},
   "outputs": [
    {
     "name": "stdout",
     "output_type": "stream",
     "text": [
      "                age      trestbps          chol       thalach       oldpeak  \\\n",
      "count  3.030000e+02  3.030000e+02  3.030000e+02  3.030000e+02  3.030000e+02   \n",
      "mean  -1.465641e-18  4.426236e-16  2.345026e-16 -1.172513e-16  2.345026e-17   \n",
      "std    1.001654e+00  1.001654e+00  1.001654e+00  1.001654e+00  1.001654e+00   \n",
      "min   -2.819115e+00 -2.145037e+00 -2.334877e+00 -3.442067e+00 -8.968617e-01   \n",
      "25%   -7.135564e-01 -6.652997e-01 -6.905030e-01 -7.053073e-01 -8.968617e-01   \n",
      "50%    1.729945e-01 -9.616980e-02 -1.101357e-01  1.485618e-01 -2.067053e-01   \n",
      "75%    7.270888e-01  4.729601e-01  5.476139e-01  7.178079e-01  4.834512e-01   \n",
      "max    2.500191e+00  3.887739e+00  6.138485e+00  2.294182e+00  4.451851e+00   \n",
      "\n",
      "              num  \n",
      "count  303.000000  \n",
      "mean     0.937294  \n",
      "std      1.228536  \n",
      "min      0.000000  \n",
      "25%      0.000000  \n",
      "50%      0.000000  \n",
      "75%      2.000000  \n",
      "max      4.000000  \n"
     ]
    }
   ],
   "source": [
    "df_stats = df.describe()\n",
    "print(df_stats)"
   ]
  },
  {
   "cell_type": "code",
   "execution_count": 20,
   "id": "787fd3f9",
   "metadata": {},
   "outputs": [
    {
     "data": {
      "text/plain": [
       "age         0\n",
       "sex         0\n",
       "cp          0\n",
       "trestbps    0\n",
       "chol        0\n",
       "fbs         0\n",
       "restecg     0\n",
       "thalach     0\n",
       "exang       0\n",
       "oldpeak     0\n",
       "slope       0\n",
       "ca          4\n",
       "thal        2\n",
       "num         0\n",
       "dtype: int64"
      ]
     },
     "execution_count": 20,
     "metadata": {},
     "output_type": "execute_result"
    }
   ],
   "source": [
    "missing_values = df.isnull().sum()\n",
    "missing_values"
   ]
  },
  {
   "cell_type": "markdown",
   "id": "0018cac0",
   "metadata": {},
   "source": [
    "The dataset is from the UCI Heart Disease Database and it includes 303 observations with 13 features and 1 target variable (num), which shows whether the patient has heart disease. \n",
    "\n",
    "There are missing values in variables `ca` (4 missing) and `thal` (2 missing).\n",
    "\n",
    "The target variable `num` is in range 0-4, need to transform to binary. \n",
    "\n",
    "| Variable Name | Data Type             | Description                                                      |\n",
    "|---------------|-----------------------|------------------------------------------------------------------|\n",
    "| age           | Continuous (Integer -> sacled)  | Age (years)                                                      |\n",
    "| sex           | Categorical           | Gender (1 = male; 0 = female)                                             |\n",
    "| cp            | Categorical           | Chest pain type  (1 = typical angina; 2 = atypical angina; 3 = non-anginal pain 4 = asymptomatic)                                                |\n",
    "| trestbps      | Continuous (Integer -> sacled)  | resting blood pressure (in mm Hg on admission to the hospital)                                   |\n",
    "| chol          | Continuous (Integer -> sacled)  | serum cholestoral in mg/dl                                       |\n",
    "| fbs           | Categorical           | Fasting blood sugar > 120 mg/dl (1 = true; 0 = false)                        |\n",
    "| restecg       | Categorical           | 0 = normal; 1 = having ST-T wave abnormality (T wave inversions and/or ST elevation or depression of > 0.05 mV); 2 = showing probable or definite left ventricular hypertrophy by Estes' criteria                             |\n",
    "| thalach       | Continuous (Integer -> sacled)  | Maximum heart rate achieved                                      |\n",
    "| exang         | Categorical           | Exercise-induced angina (1 = yes; 0 = no)                                 |\n",
    "| oldpeak       | Continuous            | ST depression induced by exercise relative to rest                |\n",
    "| slope         | Categorical           | Slope of the peak exercise ST segment (1 = upsloping; 2 = flat; 3 = downsloping)                           |\n",
    "| ca            | Integer (with missing values)  -> sacled | Number of major vessels (0-3) colored by fluoroscopy     |\n",
    "| thal          | Categorical (with missing values) | Thalassemia type (3 = normal; 6 = fixed defect; 7 = reversable defect)                                       |\n",
    "| num           | Integer               | Diagnosis of heart disease (0: no disease, 1-4: varying severity)|\n",
    "\n",
    "\n",
    "### Question 4"
   ]
  },
  {
   "cell_type": "code",
   "execution_count": 21,
   "id": "7cf9543a",
   "metadata": {},
   "outputs": [
    {
     "name": "stdout",
     "output_type": "stream",
     "text": [
      "num\n",
      "0    164\n",
      "1    139\n",
      "Name: count, dtype: int64\n"
     ]
    },
    {
     "data": {
      "text/html": [
       "<div>\n",
       "<style scoped>\n",
       "    .dataframe tbody tr th:only-of-type {\n",
       "        vertical-align: middle;\n",
       "    }\n",
       "\n",
       "    .dataframe tbody tr th {\n",
       "        vertical-align: top;\n",
       "    }\n",
       "\n",
       "    .dataframe thead th {\n",
       "        text-align: right;\n",
       "    }\n",
       "</style>\n",
       "<table border=\"1\" class=\"dataframe\">\n",
       "  <thead>\n",
       "    <tr style=\"text-align: right;\">\n",
       "      <th></th>\n",
       "      <th>age</th>\n",
       "      <th>sex</th>\n",
       "      <th>cp</th>\n",
       "      <th>trestbps</th>\n",
       "      <th>chol</th>\n",
       "      <th>fbs</th>\n",
       "      <th>restecg</th>\n",
       "      <th>thalach</th>\n",
       "      <th>exang</th>\n",
       "      <th>oldpeak</th>\n",
       "      <th>slope</th>\n",
       "      <th>ca</th>\n",
       "      <th>thal</th>\n",
       "      <th>num</th>\n",
       "    </tr>\n",
       "  </thead>\n",
       "  <tbody>\n",
       "    <tr>\n",
       "      <th>0</th>\n",
       "      <td>0.948726</td>\n",
       "      <td>1</td>\n",
       "      <td>1</td>\n",
       "      <td>0.757525</td>\n",
       "      <td>-0.264900</td>\n",
       "      <td>1</td>\n",
       "      <td>2</td>\n",
       "      <td>0.017197</td>\n",
       "      <td>0</td>\n",
       "      <td>1.087338</td>\n",
       "      <td>3</td>\n",
       "      <td>0.0</td>\n",
       "      <td>6.0</td>\n",
       "      <td>0</td>\n",
       "    </tr>\n",
       "    <tr>\n",
       "      <th>1</th>\n",
       "      <td>1.392002</td>\n",
       "      <td>1</td>\n",
       "      <td>4</td>\n",
       "      <td>1.611220</td>\n",
       "      <td>0.760415</td>\n",
       "      <td>0</td>\n",
       "      <td>2</td>\n",
       "      <td>-1.821905</td>\n",
       "      <td>1</td>\n",
       "      <td>0.397182</td>\n",
       "      <td>2</td>\n",
       "      <td>3.0</td>\n",
       "      <td>3.0</td>\n",
       "      <td>1</td>\n",
       "    </tr>\n",
       "    <tr>\n",
       "      <th>2</th>\n",
       "      <td>1.392002</td>\n",
       "      <td>1</td>\n",
       "      <td>4</td>\n",
       "      <td>-0.665300</td>\n",
       "      <td>-0.342283</td>\n",
       "      <td>0</td>\n",
       "      <td>2</td>\n",
       "      <td>-0.902354</td>\n",
       "      <td>1</td>\n",
       "      <td>1.346147</td>\n",
       "      <td>2</td>\n",
       "      <td>2.0</td>\n",
       "      <td>7.0</td>\n",
       "      <td>1</td>\n",
       "    </tr>\n",
       "    <tr>\n",
       "      <th>3</th>\n",
       "      <td>-1.932564</td>\n",
       "      <td>1</td>\n",
       "      <td>3</td>\n",
       "      <td>-0.096170</td>\n",
       "      <td>0.063974</td>\n",
       "      <td>0</td>\n",
       "      <td>0</td>\n",
       "      <td>1.637359</td>\n",
       "      <td>0</td>\n",
       "      <td>2.122573</td>\n",
       "      <td>3</td>\n",
       "      <td>0.0</td>\n",
       "      <td>3.0</td>\n",
       "      <td>0</td>\n",
       "    </tr>\n",
       "    <tr>\n",
       "      <th>4</th>\n",
       "      <td>-1.489288</td>\n",
       "      <td>0</td>\n",
       "      <td>2</td>\n",
       "      <td>-0.096170</td>\n",
       "      <td>-0.825922</td>\n",
       "      <td>0</td>\n",
       "      <td>2</td>\n",
       "      <td>0.980537</td>\n",
       "      <td>0</td>\n",
       "      <td>0.310912</td>\n",
       "      <td>1</td>\n",
       "      <td>0.0</td>\n",
       "      <td>3.0</td>\n",
       "      <td>0</td>\n",
       "    </tr>\n",
       "  </tbody>\n",
       "</table>\n",
       "</div>"
      ],
      "text/plain": [
       "        age sex cp  trestbps      chol fbs restecg   thalach exang   oldpeak  \\\n",
       "0  0.948726   1  1  0.757525 -0.264900   1       2  0.017197     0  1.087338   \n",
       "1  1.392002   1  4  1.611220  0.760415   0       2 -1.821905     1  0.397182   \n",
       "2  1.392002   1  4 -0.665300 -0.342283   0       2 -0.902354     1  1.346147   \n",
       "3 -1.932564   1  3 -0.096170  0.063974   0       0  1.637359     0  2.122573   \n",
       "4 -1.489288   0  2 -0.096170 -0.825922   0       2  0.980537     0  0.310912   \n",
       "\n",
       "  slope   ca thal  num  \n",
       "0     3  0.0  6.0    0  \n",
       "1     2  3.0  3.0    1  \n",
       "2     2  2.0  7.0    1  \n",
       "3     3  0.0  3.0    0  \n",
       "4     1  0.0  3.0    0  "
      ]
     },
     "execution_count": 21,
     "metadata": {},
     "output_type": "execute_result"
    }
   ],
   "source": [
    "df['num'] = df['num'].apply(lambda x: 1 if x >0 else 0)\n",
    "print(df['num'].value_counts())\n",
    "df.head()"
   ]
  },
  {
   "cell_type": "markdown",
   "id": "efceabe6",
   "metadata": {},
   "source": [
    "### Question 5"
   ]
  },
  {
   "cell_type": "code",
   "execution_count": 22,
   "id": "cba180a8",
   "metadata": {},
   "outputs": [
    {
     "data": {
      "text/plain": [
       "<Axes: >"
      ]
     },
     "execution_count": 22,
     "metadata": {},
     "output_type": "execute_result"
    },
    {
     "data": {
      "image/png": "[encoded data removed]",
      "text/plain": [
       "<Figure size 640x480 with 2 Axes>"
      ]
     },
     "metadata": {},
     "output_type": "display_data"
    }
   ],
   "source": [
    "corr_matrix = df.corr(numeric_only=True)\n",
    "sns.heatmap(corr_matrix, annot=True, cmap='coolwarm')"
   ]
  },
  {
   "cell_type": "markdown",
   "id": "cb3d2bf4",
   "metadata": {},
   "source": [
    "The variable `thalach` has the most relative with the target (r = -0.42), which means higher maximum heart rates lead to a lower probability of heart disease. We need to use `thalach` for the prediction.\n",
    "\n",
    "The variable `oldpeak` also plays a significant role with target (r = 0.42), which means greater ST depression may lead to heart disease. Thus, we also need `oldpeak` for the prediction.\n",
    "\n",
    "\n",
    "In addition, we can use both `thalach` and `oldpeak` due to the corelation rate between these two factors is not too strong (-0.34).\n",
    "\n",
    "### Question 6"
   ]
  },
  {
   "cell_type": "code",
   "execution_count": 23,
   "id": "3d9f074a",
   "metadata": {},
   "outputs": [
    {
     "data": {
      "text/plain": [
       "(303, 14)"
      ]
     },
     "execution_count": 23,
     "metadata": {},
     "output_type": "execute_result"
    }
   ],
   "source": [
    "df.shape"
   ]
  },
  {
   "cell_type": "code",
   "execution_count": 24,
   "id": "14d4b0b5",
   "metadata": {},
   "outputs": [],
   "source": [
    "data_clean = df.dropna()"
   ]
  },
  {
   "cell_type": "code",
   "execution_count": 25,
   "id": "5d3c189d",
   "metadata": {},
   "outputs": [
    {
     "data": {
      "text/plain": [
       "(297, 14)"
      ]
     },
     "execution_count": 25,
     "metadata": {},
     "output_type": "execute_result"
    }
   ],
   "source": [
    "data_clean.shape"
   ]
  },
  {
   "cell_type": "markdown",
   "id": "66c3eb2b",
   "metadata": {},
   "source": [
    "After dropping NA, we still have 297 observations.\n",
    "\n",
    "### Question 7"
   ]
  },
  {
   "cell_type": "code",
   "execution_count": 26,
   "id": "6ba49802",
   "metadata": {},
   "outputs": [
    {
     "data": {
      "image/png": "[encoded data removed]",
      "text/plain": [
       "<Figure size 640x480 with 1 Axes>"
      ]
     },
     "metadata": {},
     "output_type": "display_data"
    }
   ],
   "source": [
    "from sklearn.cluster import KMeans\n",
    "from sklearn.decomposition import PCA\n",
    "\n",
    "X = data_clean[continuous_cols]\n",
    "silhouette_avgs = []\n",
    "K_range = [1, 2, 3, 4, 5, 6]\n",
    "\n",
    "for k in K_range:\n",
    "    kmeans = KMeans(n_clusters=k, n_init=20, random_state=42)\n",
    "    labels = kmeans.fit_predict(X)\n",
    "    silhouette_avgs.append(kmeans.inertia_)\n",
    "fig, ax = plt.subplots()\n",
    "ax.plot(K_range, silhouette_avgs, marker='o')\n",
    "\n",
    "plt.show()"
   ]
  },
  {
   "cell_type": "code",
   "execution_count": 27,
   "id": "fbb6ffa6",
   "metadata": {},
   "outputs": [
    {
     "name": "stdout",
     "output_type": "stream",
     "text": [
      "Count of each Cluster:\n",
      " 0    166\n",
      "1    131\n",
      "Name: count, dtype: int64\n"
     ]
    }
   ],
   "source": [
    "best_k = 2\n",
    "kmeans_best = KMeans(n_clusters=best_k, n_init=20, random_state=42).fit(X)\n",
    "labels_best = kmeans_best.labels_\n",
    "\n",
    "cluster_counts = pd.Series(labels_best).value_counts()\n",
    "print(\"Count of each Cluster:\\n\", cluster_counts)"
   ]
  },
  {
   "cell_type": "code",
   "execution_count": 28,
   "id": "b06e3ce5",
   "metadata": {},
   "outputs": [
    {
     "data": {
      "text/plain": [
       "5"
      ]
     },
     "execution_count": 28,
     "metadata": {},
     "output_type": "execute_result"
    }
   ],
   "source": [
    "pca = PCA()\n",
    "pca.fit(X)\n",
    "\n",
    "num_pcs = pca.components_.shape[0]\n",
    "num_pcs"
   ]
  },
  {
   "cell_type": "code",
   "execution_count": 29,
   "id": "9ce16f35",
   "metadata": {},
   "outputs": [
    {
     "data": {
      "text/html": [
       "<div>\n",
       "<style scoped>\n",
       "    .dataframe tbody tr th:only-of-type {\n",
       "        vertical-align: middle;\n",
       "    }\n",
       "\n",
       "    .dataframe tbody tr th {\n",
       "        vertical-align: top;\n",
       "    }\n",
       "\n",
       "    .dataframe thead th {\n",
       "        text-align: right;\n",
       "    }\n",
       "</style>\n",
       "<table border=\"1\" class=\"dataframe\">\n",
       "  <thead>\n",
       "    <tr style=\"text-align: right;\">\n",
       "      <th></th>\n",
       "      <th>PC1</th>\n",
       "      <th>PC2</th>\n",
       "      <th>PC3</th>\n",
       "      <th>PC4</th>\n",
       "      <th>PC5</th>\n",
       "    </tr>\n",
       "  </thead>\n",
       "  <tbody>\n",
       "    <tr>\n",
       "      <th>age</th>\n",
       "      <td>0.563905</td>\n",
       "      <td>0.117086</td>\n",
       "      <td>-0.186296</td>\n",
       "      <td>-0.522448</td>\n",
       "      <td>0.600536</td>\n",
       "    </tr>\n",
       "    <tr>\n",
       "      <th>trestbps</th>\n",
       "      <td>0.394078</td>\n",
       "      <td>0.427860</td>\n",
       "      <td>0.727905</td>\n",
       "      <td>-0.128570</td>\n",
       "      <td>-0.339503</td>\n",
       "    </tr>\n",
       "    <tr>\n",
       "      <th>chol</th>\n",
       "      <td>0.231550</td>\n",
       "      <td>0.685612</td>\n",
       "      <td>-0.535323</td>\n",
       "      <td>0.402216</td>\n",
       "      <td>-0.167250</td>\n",
       "    </tr>\n",
       "    <tr>\n",
       "      <th>thalach</th>\n",
       "      <td>-0.505247</td>\n",
       "      <td>0.472911</td>\n",
       "      <td>0.317293</td>\n",
       "      <td>0.167503</td>\n",
       "      <td>0.626377</td>\n",
       "    </tr>\n",
       "    <tr>\n",
       "      <th>oldpeak</th>\n",
       "      <td>0.466716</td>\n",
       "      <td>-0.330934</td>\n",
       "      <td>0.219550</td>\n",
       "      <td>0.721584</td>\n",
       "      <td>0.322139</td>\n",
       "    </tr>\n",
       "  </tbody>\n",
       "</table>\n",
       "</div>"
      ],
      "text/plain": [
       "               PC1       PC2       PC3       PC4       PC5\n",
       "age       0.563905  0.117086 -0.186296 -0.522448  0.600536\n",
       "trestbps  0.394078  0.427860  0.727905 -0.128570 -0.339503\n",
       "chol      0.231550  0.685612 -0.535323  0.402216 -0.167250\n",
       "thalach  -0.505247  0.472911  0.317293  0.167503  0.626377\n",
       "oldpeak   0.466716 -0.330934  0.219550  0.721584  0.322139"
      ]
     },
     "execution_count": 29,
     "metadata": {},
     "output_type": "execute_result"
    }
   ],
   "source": [
    "pca_loadings = pd.DataFrame(\n",
    "    pca.components_.T,\n",
    "    index=X.columns,  \n",
    "    columns=[f'PC{i+1}' for i in range(num_pcs)]\n",
    ")\n",
    "pca_loadings.head()"
   ]
  },
  {
   "cell_type": "code",
   "execution_count": 30,
   "id": "8280667f",
   "metadata": {},
   "outputs": [
    {
     "data": {
      "text/html": [
       "<div>\n",
       "<style scoped>\n",
       "    .dataframe tbody tr th:only-of-type {\n",
       "        vertical-align: middle;\n",
       "    }\n",
       "\n",
       "    .dataframe tbody tr th {\n",
       "        vertical-align: top;\n",
       "    }\n",
       "\n",
       "    .dataframe thead th {\n",
       "        text-align: right;\n",
       "    }\n",
       "</style>\n",
       "<table border=\"1\" class=\"dataframe\">\n",
       "  <thead>\n",
       "    <tr style=\"text-align: right;\">\n",
       "      <th></th>\n",
       "      <th>PC1</th>\n",
       "      <th>PC2</th>\n",
       "      <th>PC3</th>\n",
       "      <th>PC4</th>\n",
       "      <th>PC5</th>\n",
       "    </tr>\n",
       "  </thead>\n",
       "  <tbody>\n",
       "    <tr>\n",
       "      <th>0</th>\n",
       "      <td>1.254893</td>\n",
       "      <td>-0.103555</td>\n",
       "      <td>0.766516</td>\n",
       "      <td>0.078899</td>\n",
       "      <td>0.709033</td>\n",
       "    </tr>\n",
       "    <tr>\n",
       "      <th>1</th>\n",
       "      <td>2.685787</td>\n",
       "      <td>0.375242</td>\n",
       "      <td>0.021411</td>\n",
       "      <td>-0.656111</td>\n",
       "      <td>-0.860377</td>\n",
       "    </tr>\n",
       "    <tr>\n",
       "      <th>2</th>\n",
       "      <td>1.511628</td>\n",
       "      <td>-1.233993</td>\n",
       "      <td>-0.545267</td>\n",
       "      <td>0.031843</td>\n",
       "      <td>0.978618</td>\n",
       "    </tr>\n",
       "    <tr>\n",
       "      <th>3</th>\n",
       "      <td>-0.965573</td>\n",
       "      <td>-0.157097</td>\n",
       "      <td>1.247179</td>\n",
       "      <td>2.844652</td>\n",
       "      <td>0.561862</td>\n",
       "    </tr>\n",
       "    <tr>\n",
       "      <th>4</th>\n",
       "      <td>-1.435337</td>\n",
       "      <td>-0.426397</td>\n",
       "      <td>1.034824</td>\n",
       "      <td>0.837848</td>\n",
       "      <td>-0.018124</td>\n",
       "    </tr>\n",
       "  </tbody>\n",
       "</table>\n",
       "</div>"
      ],
      "text/plain": [
       "        PC1       PC2       PC3       PC4       PC5\n",
       "0  1.254893 -0.103555  0.766516  0.078899  0.709033\n",
       "1  2.685787  0.375242  0.021411 -0.656111 -0.860377\n",
       "2  1.511628 -1.233993 -0.545267  0.031843  0.978618\n",
       "3 -0.965573 -0.157097  1.247179  2.844652  0.561862\n",
       "4 -1.435337 -0.426397  1.034824  0.837848 -0.018124"
      ]
     },
     "execution_count": 30,
     "metadata": {},
     "output_type": "execute_result"
    }
   ],
   "source": [
    "pc_scores = pd.DataFrame(\n",
    "    pca.fit_transform(X), \n",
    "    columns=[f'PC{i+1}' for i in range(num_pcs)]\n",
    ")\n",
    "pc_scores.head(5)"
   ]
  },
  {
   "cell_type": "code",
   "execution_count": 31,
   "id": "a9e93fba",
   "metadata": {},
   "outputs": [
    {
     "data": {
      "image/png": "[encoded data removed]",
      "text/plain": [
       "<Figure size 800x500 with 1 Axes>"
      ]
     },
     "metadata": {},
     "output_type": "display_data"
    }
   ],
   "source": [
    "pc_indices = np.arange(1, num_pcs + 1)\n",
    "\n",
    "plt.figure(figsize=(8,5))\n",
    "plt.plot(pc_indices, pca.explained_variance_ratio_, '-o', label='Individual component')\n",
    "plt.plot(pc_indices, np.cumsum(pca.explained_variance_ratio_), '-s', label='Cumulative')\n",
    "\n",
    "plt.xlabel('Principal component')\n",
    "plt.ylabel('Proportion of variance explained')\n",
    "plt.xticks(pc_indices)\n",
    "plt.legend(loc=2)\n",
    "plt.grid(True)\n",
    "plt.show()"
   ]
  },
  {
   "cell_type": "code",
   "execution_count": 32,
   "id": "3efcad73",
   "metadata": {},
   "outputs": [
    {
     "name": "stdout",
     "output_type": "stream",
     "text": [
      "The most influential variable in PC2 is: chol\n"
     ]
    }
   ],
   "source": [
    "pc2_loadings = pca_loadings['PC2']\n",
    "most_influential_var_pc2 = pc2_loadings.abs().idxmax()\n",
    "print(\"The most influential variable in PC2 is:\", most_influential_var_pc2)"
   ]
  },
  {
   "cell_type": "code",
   "execution_count": 33,
   "id": "61dd68cb",
   "metadata": {},
   "outputs": [
    {
     "data": {
      "image/png": "[encoded data removed]",
      "text/plain": [
       "<Figure size 1000x700 with 2 Axes>"
      ]
     },
     "metadata": {},
     "output_type": "display_data"
    }
   ],
   "source": [
    "pcs_selected = pc_scores[['PC1', 'PC2']].copy()\n",
    "pcs_selected['Cluster'] = labels_best\n",
    "\n",
    "plt.figure(figsize=(10, 7))\n",
    "\n",
    "scatter = plt.scatter(\n",
    "    pcs_selected['PC1'], \n",
    "    pcs_selected['PC2'], \n",
    "    c=pcs_selected['Cluster'], \n",
    "    cmap='viridis', \n",
    "    alpha=0.6\n",
    ")\n",
    "\n",
    "plt.xlabel('Principal component 1')\n",
    "plt.ylabel('Principal component 2')\n",
    "plt.title('PC1 and PC2 scores with K-means cluster annotation')\n",
    "\n",
    "cbar = plt.colorbar(scatter)\n",
    "cbar.set_label('Cluster')\n",
    "\n",
    "plt.grid(True)\n",
    "plt.show()"
   ]
  },
  {
   "cell_type": "markdown",
   "id": "7a36434a",
   "metadata": {},
   "source": [
    "### Question 8"
   ]
  },
  {
   "cell_type": "code",
   "execution_count": 34,
   "id": "4e6f604a",
   "metadata": {},
   "outputs": [],
   "source": [
    "X = data_clean.drop(['num'], axis=1)\n",
    "y = data_clean['num']\n",
    "X_train, X_test, y_train, y_test = train_test_split(X, y, test_size=0.3, random_state=1)"
   ]
  },
  {
   "cell_type": "code",
   "execution_count": 35,
   "id": "67b41ab7",
   "metadata": {},
   "outputs": [
    {
     "name": "stdout",
     "output_type": "stream",
     "text": [
      "207 90\n"
     ]
    }
   ],
   "source": [
    "print(len(X_train), len(X_test))"
   ]
  },
  {
   "cell_type": "markdown",
   "id": "b649182a",
   "metadata": {},
   "source": [
    "### Question 9"
   ]
  },
  {
   "cell_type": "markdown",
   "id": "534bc004",
   "metadata": {},
   "source": [
    "Logistic Regression`: It's the most popular model used in binary classification problems. \n",
    "\n",
    "`KNN`: It's a simple and effective model, which can classify binary based on the labels of nearest data points."
   ]
  },
  {
   "cell_type": "markdown",
   "id": "0cfa97a1",
   "metadata": {},
   "source": [
    "### Question 10\n",
    "\n",
    "We selected `Accuracy` and `ROC-AUC`  metrics to compare classifier performance.\n",
    "\n",
    "Accuracy shows the proportion of total correct predictions according to all predictions made by the classifier. It is calculated using the formula:\n",
    "\n",
    "$$\n",
    "\\text{Accuracy} = \\frac{TP + TN}{TP + TN + FP + FN}\n",
    "$$\n",
    "\n",
    "- **TP** = True Positives  \n",
    "- **TN** = True Negatives  \n",
    "- **FP** = False Positives  \n",
    "- **FN** = False Negatives  \n",
    "\n",
    "ROC-AUC is the most useful matric when we work on health related field, it shows the `True Positive Rate (Sensitivity)` against the `False Positive Rate (1 - Specificity)`. The AUC shows the model quality:\n",
    "\n",
    "\n",
    "- **AUC = 1.0**: Perfect model  \n",
    "- **AUC = 0.5**: Random model\n",
    "- **AUC < 0.5**: Worse model"
   ]
  },
  {
   "cell_type": "markdown",
   "id": "70fb5cb1",
   "metadata": {},
   "source": [
    "### Question 11"
   ]
  },
  {
   "cell_type": "code",
   "execution_count": 52,
   "id": "01e2f370",
   "metadata": {},
   "outputs": [],
   "source": [
    "log1 = LogisticRegression(max_iter=1000, random_state=120)"
   ]
  },
  {
   "cell_type": "code",
   "execution_count": 53,
   "id": "f3239856",
   "metadata": {},
   "outputs": [
    {
     "data": {
      "text/html": [
       "<style>#sk-container-id-2 {\n",
       "  /* Definition of color scheme common for light and dark mode */\n",
       "  --sklearn-color-text: #000;\n",
       "  --sklearn-color-text-muted: #666;\n",
       "  --sklearn-color-line: gray;\n",
       "  /* Definition of color scheme for unfitted estimators */\n",
       "  --sklearn-color-unfitted-level-0: #fff5e6;\n",
       "  --sklearn-color-unfitted-level-1: #f6e4d2;\n",
       "  --sklearn-color-unfitted-level-2: #ffe0b3;\n",
       "  --sklearn-color-unfitted-level-3: chocolate;\n",
       "  /* Definition of color scheme for fitted estimators */\n",
       "  --sklearn-color-fitted-level-0: #f0f8ff;\n",
       "  --sklearn-color-fitted-level-1: #d4ebff;\n",
       "  --sklearn-color-fitted-level-2: #b3dbfd;\n",
       "  --sklearn-color-fitted-level-3: cornflowerblue;\n",
       "\n",
       "  /* Specific color for light theme */\n",
       "  --sklearn-color-text-on-default-background: var(--sg-text-color, var(--theme-code-foreground, var(--jp-content-font-color1, black)));\n",
       "  --sklearn-color-background: var(--sg-background-color, var(--theme-background, var(--jp-layout-color0, white)));\n",
       "  --sklearn-color-border-box: var(--sg-text-color, var(--theme-code-foreground, var(--jp-content-font-color1, black)));\n",
       "  --sklearn-color-icon: #696969;\n",
       "\n",
       "  @media (prefers-color-scheme: dark) {\n",
       "    /* Redefinition of color scheme for dark theme */\n",
       "    --sklearn-color-text-on-default-background: var(--sg-text-color, var(--theme-code-foreground, var(--jp-content-font-color1, white)));\n",
       "    --sklearn-color-background: var(--sg-background-color, var(--theme-background, var(--jp-layout-color0, #111)));\n",
       "    --sklearn-color-border-box: var(--sg-text-color, var(--theme-code-foreground, var(--jp-content-font-color1, white)));\n",
       "    --sklearn-color-icon: #878787;\n",
       "  }\n",
       "}\n",
       "\n",
       "#sk-container-id-2 {\n",
       "  color: var(--sklearn-color-text);\n",
       "}\n",
       "\n",
       "#sk-container-id-2 pre {\n",
       "  padding: 0;\n",
       "}\n",
       "\n",
       "#sk-container-id-2 input.sk-hidden--visually {\n",
       "  border: 0;\n",
       "  clip: rect(1px 1px 1px 1px);\n",
       "  clip: rect(1px, 1px, 1px, 1px);\n",
       "  height: 1px;\n",
       "  margin: -1px;\n",
       "  overflow: hidden;\n",
       "  padding: 0;\n",
       "  position: absolute;\n",
       "  width: 1px;\n",
       "}\n",
       "\n",
       "#sk-container-id-2 div.sk-dashed-wrapped {\n",
       "  border: 1px dashed var(--sklearn-color-line);\n",
       "  margin: 0 0.4em 0.5em 0.4em;\n",
       "  box-sizing: border-box;\n",
       "  padding-bottom: 0.4em;\n",
       "  background-color: var(--sklearn-color-background);\n",
       "}\n",
       "\n",
       "#sk-container-id-2 div.sk-container {\n",
       "  /* jupyter's `normalize.less` sets `[hidden] { display: none; }`\n",
       "     but bootstrap.min.css set `[hidden] { display: none !important; }`\n",
       "     so we also need the `!important` here to be able to override the\n",
       "     default hidden behavior on the sphinx rendered scikit-learn.org.\n",
       "     See: https://github.com/scikit-learn/scikit-learn/issues/21755 */\n",
       "  display: inline-block !important;\n",
       "  position: relative;\n",
       "}\n",
       "\n",
       "#sk-container-id-2 div.sk-text-repr-fallback {\n",
       "  display: none;\n",
       "}\n",
       "\n",
       "div.sk-parallel-item,\n",
       "div.sk-serial,\n",
       "div.sk-item {\n",
       "  /* draw centered vertical line to link estimators */\n",
       "  background-image: linear-gradient(var(--sklearn-color-text-on-default-background), var(--sklearn-color-text-on-default-background));\n",
       "  background-size: 2px 100%;\n",
       "  background-repeat: no-repeat;\n",
       "  background-position: center center;\n",
       "}\n",
       "\n",
       "/* Parallel-specific style estimator block */\n",
       "\n",
       "#sk-container-id-2 div.sk-parallel-item::after {\n",
       "  content: \"\";\n",
       "  width: 100%;\n",
       "  border-bottom: 2px solid var(--sklearn-color-text-on-default-background);\n",
       "  flex-grow: 1;\n",
       "}\n",
       "\n",
       "#sk-container-id-2 div.sk-parallel {\n",
       "  display: flex;\n",
       "  align-items: stretch;\n",
       "  justify-content: center;\n",
       "  background-color: var(--sklearn-color-background);\n",
       "  position: relative;\n",
       "}\n",
       "\n",
       "#sk-container-id-2 div.sk-parallel-item {\n",
       "  display: flex;\n",
       "  flex-direction: column;\n",
       "}\n",
       "\n",
       "#sk-container-id-2 div.sk-parallel-item:first-child::after {\n",
       "  align-self: flex-end;\n",
       "  width: 50%;\n",
       "}\n",
       "\n",
       "#sk-container-id-2 div.sk-parallel-item:last-child::after {\n",
       "  align-self: flex-start;\n",
       "  width: 50%;\n",
       "}\n",
       "\n",
       "#sk-container-id-2 div.sk-parallel-item:only-child::after {\n",
       "  width: 0;\n",
       "}\n",
       "\n",
       "/* Serial-specific style estimator block */\n",
       "\n",
       "#sk-container-id-2 div.sk-serial {\n",
       "  display: flex;\n",
       "  flex-direction: column;\n",
       "  align-items: center;\n",
       "  background-color: var(--sklearn-color-background);\n",
       "  padding-right: 1em;\n",
       "  padding-left: 1em;\n",
       "}\n",
       "\n",
       "\n",
       "/* Toggleable style: style used for estimator/Pipeline/ColumnTransformer box that is\n",
       "clickable and can be expanded/collapsed.\n",
       "- Pipeline and ColumnTransformer use this feature and define the default style\n",
       "- Estimators will overwrite some part of the style using the `sk-estimator` class\n",
       "*/\n",
       "\n",
       "/* Pipeline and ColumnTransformer style (default) */\n",
       "\n",
       "#sk-container-id-2 div.sk-toggleable {\n",
       "  /* Default theme specific background. It is overwritten whether we have a\n",
       "  specific estimator or a Pipeline/ColumnTransformer */\n",
       "  background-color: var(--sklearn-color-background);\n",
       "}\n",
       "\n",
       "/* Toggleable label */\n",
       "#sk-container-id-2 label.sk-toggleable__label {\n",
       "  cursor: pointer;\n",
       "  display: flex;\n",
       "  width: 100%;\n",
       "  margin-bottom: 0;\n",
       "  padding: 0.5em;\n",
       "  box-sizing: border-box;\n",
       "  text-align: center;\n",
       "  align-items: start;\n",
       "  justify-content: space-between;\n",
       "  gap: 0.5em;\n",
       "}\n",
       "\n",
       "#sk-container-id-2 label.sk-toggleable__label .caption {\n",
       "  font-size: 0.6rem;\n",
       "  font-weight: lighter;\n",
       "  color: var(--sklearn-color-text-muted);\n",
       "}\n",
       "\n",
       "#sk-container-id-2 label.sk-toggleable__label-arrow:before {\n",
       "  /* Arrow on the left of the label */\n",
       "  content: \"▸\";\n",
       "  float: left;\n",
       "  margin-right: 0.25em;\n",
       "  color: var(--sklearn-color-icon);\n",
       "}\n",
       "\n",
       "#sk-container-id-2 label.sk-toggleable__label-arrow:hover:before {\n",
       "  color: var(--sklearn-color-text);\n",
       "}\n",
       "\n",
       "/* Toggleable content - dropdown */\n",
       "\n",
       "#sk-container-id-2 div.sk-toggleable__content {\n",
       "  max-height: 0;\n",
       "  max-width: 0;\n",
       "  overflow: hidden;\n",
       "  text-align: left;\n",
       "  /* unfitted */\n",
       "  background-color: var(--sklearn-color-unfitted-level-0);\n",
       "}\n",
       "\n",
       "#sk-container-id-2 div.sk-toggleable__content.fitted {\n",
       "  /* fitted */\n",
       "  background-color: var(--sklearn-color-fitted-level-0);\n",
       "}\n",
       "\n",
       "#sk-container-id-2 div.sk-toggleable__content pre {\n",
       "  margin: 0.2em;\n",
       "  border-radius: 0.25em;\n",
       "  color: var(--sklearn-color-text);\n",
       "  /* unfitted */\n",
       "  background-color: var(--sklearn-color-unfitted-level-0);\n",
       "}\n",
       "\n",
       "#sk-container-id-2 div.sk-toggleable__content.fitted pre {\n",
       "  /* unfitted */\n",
       "  background-color: var(--sklearn-color-fitted-level-0);\n",
       "}\n",
       "\n",
       "#sk-container-id-2 input.sk-toggleable__control:checked~div.sk-toggleable__content {\n",
       "  /* Expand drop-down */\n",
       "  max-height: 200px;\n",
       "  max-width: 100%;\n",
       "  overflow: auto;\n",
       "}\n",
       "\n",
       "#sk-container-id-2 input.sk-toggleable__control:checked~label.sk-toggleable__label-arrow:before {\n",
       "  content: \"▾\";\n",
       "}\n",
       "\n",
       "/* Pipeline/ColumnTransformer-specific style */\n",
       "\n",
       "#sk-container-id-2 div.sk-label input.sk-toggleable__control:checked~label.sk-toggleable__label {\n",
       "  color: var(--sklearn-color-text);\n",
       "  background-color: var(--sklearn-color-unfitted-level-2);\n",
       "}\n",
       "\n",
       "#sk-container-id-2 div.sk-label.fitted input.sk-toggleable__control:checked~label.sk-toggleable__label {\n",
       "  background-color: var(--sklearn-color-fitted-level-2);\n",
       "}\n",
       "\n",
       "/* Estimator-specific style */\n",
       "\n",
       "/* Colorize estimator box */\n",
       "#sk-container-id-2 div.sk-estimator input.sk-toggleable__control:checked~label.sk-toggleable__label {\n",
       "  /* unfitted */\n",
       "  background-color: var(--sklearn-color-unfitted-level-2);\n",
       "}\n",
       "\n",
       "#sk-container-id-2 div.sk-estimator.fitted input.sk-toggleable__control:checked~label.sk-toggleable__label {\n",
       "  /* fitted */\n",
       "  background-color: var(--sklearn-color-fitted-level-2);\n",
       "}\n",
       "\n",
       "#sk-container-id-2 div.sk-label label.sk-toggleable__label,\n",
       "#sk-container-id-2 div.sk-label label {\n",
       "  /* The background is the default theme color */\n",
       "  color: var(--sklearn-color-text-on-default-background);\n",
       "}\n",
       "\n",
       "/* On hover, darken the color of the background */\n",
       "#sk-container-id-2 div.sk-label:hover label.sk-toggleable__label {\n",
       "  color: var(--sklearn-color-text);\n",
       "  background-color: var(--sklearn-color-unfitted-level-2);\n",
       "}\n",
       "\n",
       "/* Label box, darken color on hover, fitted */\n",
       "#sk-container-id-2 div.sk-label.fitted:hover label.sk-toggleable__label.fitted {\n",
       "  color: var(--sklearn-color-text);\n",
       "  background-color: var(--sklearn-color-fitted-level-2);\n",
       "}\n",
       "\n",
       "/* Estimator label */\n",
       "\n",
       "#sk-container-id-2 div.sk-label label {\n",
       "  font-family: monospace;\n",
       "  font-weight: bold;\n",
       "  display: inline-block;\n",
       "  line-height: 1.2em;\n",
       "}\n",
       "\n",
       "#sk-container-id-2 div.sk-label-container {\n",
       "  text-align: center;\n",
       "}\n",
       "\n",
       "/* Estimator-specific */\n",
       "#sk-container-id-2 div.sk-estimator {\n",
       "  font-family: monospace;\n",
       "  border: 1px dotted var(--sklearn-color-border-box);\n",
       "  border-radius: 0.25em;\n",
       "  box-sizing: border-box;\n",
       "  margin-bottom: 0.5em;\n",
       "  /* unfitted */\n",
       "  background-color: var(--sklearn-color-unfitted-level-0);\n",
       "}\n",
       "\n",
       "#sk-container-id-2 div.sk-estimator.fitted {\n",
       "  /* fitted */\n",
       "  background-color: var(--sklearn-color-fitted-level-0);\n",
       "}\n",
       "\n",
       "/* on hover */\n",
       "#sk-container-id-2 div.sk-estimator:hover {\n",
       "  /* unfitted */\n",
       "  background-color: var(--sklearn-color-unfitted-level-2);\n",
       "}\n",
       "\n",
       "#sk-container-id-2 div.sk-estimator.fitted:hover {\n",
       "  /* fitted */\n",
       "  background-color: var(--sklearn-color-fitted-level-2);\n",
       "}\n",
       "\n",
       "/* Specification for estimator info (e.g. \"i\" and \"?\") */\n",
       "\n",
       "/* Common style for \"i\" and \"?\" */\n",
       "\n",
       ".sk-estimator-doc-link,\n",
       "a:link.sk-estimator-doc-link,\n",
       "a:visited.sk-estimator-doc-link {\n",
       "  float: right;\n",
       "  font-size: smaller;\n",
       "  line-height: 1em;\n",
       "  font-family: monospace;\n",
       "  background-color: var(--sklearn-color-background);\n",
       "  border-radius: 1em;\n",
       "  height: 1em;\n",
       "  width: 1em;\n",
       "  text-decoration: none !important;\n",
       "  margin-left: 0.5em;\n",
       "  text-align: center;\n",
       "  /* unfitted */\n",
       "  border: var(--sklearn-color-unfitted-level-1) 1pt solid;\n",
       "  color: var(--sklearn-color-unfitted-level-1);\n",
       "}\n",
       "\n",
       ".sk-estimator-doc-link.fitted,\n",
       "a:link.sk-estimator-doc-link.fitted,\n",
       "a:visited.sk-estimator-doc-link.fitted {\n",
       "  /* fitted */\n",
       "  border: var(--sklearn-color-fitted-level-1) 1pt solid;\n",
       "  color: var(--sklearn-color-fitted-level-1);\n",
       "}\n",
       "\n",
       "/* On hover */\n",
       "div.sk-estimator:hover .sk-estimator-doc-link:hover,\n",
       ".sk-estimator-doc-link:hover,\n",
       "div.sk-label-container:hover .sk-estimator-doc-link:hover,\n",
       ".sk-estimator-doc-link:hover {\n",
       "  /* unfitted */\n",
       "  background-color: var(--sklearn-color-unfitted-level-3);\n",
       "  color: var(--sklearn-color-background);\n",
       "  text-decoration: none;\n",
       "}\n",
       "\n",
       "div.sk-estimator.fitted:hover .sk-estimator-doc-link.fitted:hover,\n",
       ".sk-estimator-doc-link.fitted:hover,\n",
       "div.sk-label-container:hover .sk-estimator-doc-link.fitted:hover,\n",
       ".sk-estimator-doc-link.fitted:hover {\n",
       "  /* fitted */\n",
       "  background-color: var(--sklearn-color-fitted-level-3);\n",
       "  color: var(--sklearn-color-background);\n",
       "  text-decoration: none;\n",
       "}\n",
       "\n",
       "/* Span, style for the box shown on hovering the info icon */\n",
       ".sk-estimator-doc-link span {\n",
       "  display: none;\n",
       "  z-index: 9999;\n",
       "  position: relative;\n",
       "  font-weight: normal;\n",
       "  right: .2ex;\n",
       "  padding: .5ex;\n",
       "  margin: .5ex;\n",
       "  width: min-content;\n",
       "  min-width: 20ex;\n",
       "  max-width: 50ex;\n",
       "  color: var(--sklearn-color-text);\n",
       "  box-shadow: 2pt 2pt 4pt #999;\n",
       "  /* unfitted */\n",
       "  background: var(--sklearn-color-unfitted-level-0);\n",
       "  border: .5pt solid var(--sklearn-color-unfitted-level-3);\n",
       "}\n",
       "\n",
       ".sk-estimator-doc-link.fitted span {\n",
       "  /* fitted */\n",
       "  background: var(--sklearn-color-fitted-level-0);\n",
       "  border: var(--sklearn-color-fitted-level-3);\n",
       "}\n",
       "\n",
       ".sk-estimator-doc-link:hover span {\n",
       "  display: block;\n",
       "}\n",
       "\n",
       "/* \"?\"-specific style due to the `<a>` HTML tag */\n",
       "\n",
       "#sk-container-id-2 a.estimator_doc_link {\n",
       "  float: right;\n",
       "  font-size: 1rem;\n",
       "  line-height: 1em;\n",
       "  font-family: monospace;\n",
       "  background-color: var(--sklearn-color-background);\n",
       "  border-radius: 1rem;\n",
       "  height: 1rem;\n",
       "  width: 1rem;\n",
       "  text-decoration: none;\n",
       "  /* unfitted */\n",
       "  color: var(--sklearn-color-unfitted-level-1);\n",
       "  border: var(--sklearn-color-unfitted-level-1) 1pt solid;\n",
       "}\n",
       "\n",
       "#sk-container-id-2 a.estimator_doc_link.fitted {\n",
       "  /* fitted */\n",
       "  border: var(--sklearn-color-fitted-level-1) 1pt solid;\n",
       "  color: var(--sklearn-color-fitted-level-1);\n",
       "}\n",
       "\n",
       "/* On hover */\n",
       "#sk-container-id-2 a.estimator_doc_link:hover {\n",
       "  /* unfitted */\n",
       "  background-color: var(--sklearn-color-unfitted-level-3);\n",
       "  color: var(--sklearn-color-background);\n",
       "  text-decoration: none;\n",
       "}\n",
       "\n",
       "#sk-container-id-2 a.estimator_doc_link.fitted:hover {\n",
       "  /* fitted */\n",
       "  background-color: var(--sklearn-color-fitted-level-3);\n",
       "}\n",
       "</style><div id=\"sk-container-id-2\" class=\"sk-top-container\"><div class=\"sk-text-repr-fallback\"><pre>LogisticRegression(max_iter=1000, random_state=120)</pre><b>In a Jupyter environment, please rerun this cell to show the HTML representation or trust the notebook. <br />On GitHub, the HTML representation is unable to render, please try loading this page with nbviewer.org.</b></div><div class=\"sk-container\" hidden><div class=\"sk-item\"><div class=\"sk-estimator fitted sk-toggleable\"><input class=\"sk-toggleable__control sk-hidden--visually\" id=\"sk-estimator-id-2\" type=\"checkbox\" checked><label for=\"sk-estimator-id-2\" class=\"sk-toggleable__label fitted sk-toggleable__label-arrow\"><div><div>LogisticRegression</div></div><div><a class=\"sk-estimator-doc-link fitted\" rel=\"noreferrer\" target=\"_blank\" href=\"https://scikit-learn.org/1.6/modules/generated/sklearn.linear_model.LogisticRegression.html\">?<span>Documentation for LogisticRegression</span></a><span class=\"sk-estimator-doc-link fitted\">i<span>Fitted</span></span></div></label><div class=\"sk-toggleable__content fitted\"><pre>LogisticRegression(max_iter=1000, random_state=120)</pre></div> </div></div></div></div>"
      ],
      "text/plain": [
       "LogisticRegression(max_iter=1000, random_state=120)"
      ]
     },
     "execution_count": 53,
     "metadata": {},
     "output_type": "execute_result"
    }
   ],
   "source": [
    "log1.fit(X_train, y_train)"
   ]
  },
  {
   "cell_type": "code",
   "execution_count": 54,
   "id": "0513915d",
   "metadata": {},
   "outputs": [
    {
     "data": {
      "text/plain": [
       "array([[0.84383657, 0.15616343],\n",
       "       [0.08932763, 0.91067237]])"
      ]
     },
     "execution_count": 54,
     "metadata": {},
     "output_type": "execute_result"
    }
   ],
   "source": [
    "pred_prob1 = log1.predict_proba(X_test)\n",
    "pred_prob1[0:2]"
   ]
  },
  {
   "cell_type": "code",
   "execution_count": 58,
   "id": "b9918a93",
   "metadata": {},
   "outputs": [
    {
     "data": {
      "text/html": [
       "<div>\n",
       "<style scoped>\n",
       "    .dataframe tbody tr th:only-of-type {\n",
       "        vertical-align: middle;\n",
       "    }\n",
       "\n",
       "    .dataframe tbody tr th {\n",
       "        vertical-align: top;\n",
       "    }\n",
       "\n",
       "    .dataframe thead th {\n",
       "        text-align: right;\n",
       "    }\n",
       "</style>\n",
       "<table border=\"1\" class=\"dataframe\">\n",
       "  <thead>\n",
       "    <tr style=\"text-align: right;\">\n",
       "      <th></th>\n",
       "      <th>prob1</th>\n",
       "      <th>y_test</th>\n",
       "    </tr>\n",
       "  </thead>\n",
       "  <tbody>\n",
       "    <tr>\n",
       "      <th>139</th>\n",
       "      <td>0.156163</td>\n",
       "      <td>0</td>\n",
       "    </tr>\n",
       "    <tr>\n",
       "      <th>236</th>\n",
       "      <td>0.910672</td>\n",
       "      <td>1</td>\n",
       "    </tr>\n",
       "    <tr>\n",
       "      <th>51</th>\n",
       "      <td>0.380896</td>\n",
       "      <td>0</td>\n",
       "    </tr>\n",
       "    <tr>\n",
       "      <th>295</th>\n",
       "      <td>0.020444</td>\n",
       "      <td>0</td>\n",
       "    </tr>\n",
       "    <tr>\n",
       "      <th>245</th>\n",
       "      <td>0.586430</td>\n",
       "      <td>1</td>\n",
       "    </tr>\n",
       "  </tbody>\n",
       "</table>\n",
       "</div>"
      ],
      "text/plain": [
       "        prob1  y_test\n",
       "139  0.156163       0\n",
       "236  0.910672       1\n",
       "51   0.380896       0\n",
       "295  0.020444       0\n",
       "245  0.586430       1"
      ]
     },
     "execution_count": 58,
     "metadata": {},
     "output_type": "execute_result"
    }
   ],
   "source": [
    "df = pd.DataFrame(\n",
    "    data = {'prob1': pred_prob1[:,1], 'y_test': y_test}\n",
    "    )\n",
    "df.head(5)"
   ]
  },
  {
   "cell_type": "code",
   "execution_count": 56,
   "id": "3d4eeae8",
   "metadata": {},
   "outputs": [
    {
     "data": {
      "image/png": "[encoded data removed]",
      "text/plain": [
       "<Figure size 640x480 with 1 Axes>"
      ]
     },
     "metadata": {},
     "output_type": "display_data"
    }
   ],
   "source": [
    "from sklearn import neighbors\n",
    "\n",
    "k_range = range(1, 8)\n",
    "scores = [] \n",
    "\n",
    "for k in k_range:\n",
    "    knn = neighbors.KNeighborsClassifier(n_neighbors=k)\n",
    "    knn.fit(X_train, y_train)\n",
    "    y_pred = knn.predict(X_test)\n",
    "    scores.append(round(metrics.accuracy_score(y_test, y_pred),2))\n",
    "    \n",
    "plt.plot(k_range, scores)\n",
    "plt.xlabel('K')\n",
    "plt.ylabel('Test set accuracy')\n",
    "plt.xticks(range(1,8))\n",
    "plt.show()"
   ]
  },
  {
   "cell_type": "code",
   "execution_count": 59,
   "id": "493d5d0b",
   "metadata": {},
   "outputs": [],
   "source": [
    "knn7 = neighbors.KNeighborsClassifier(n_neighbors=7)\n",
    "knn7.fit(X_train, y_train)\n",
    "y_pred7 = knn7.predict(X_test)"
   ]
  },
  {
   "cell_type": "markdown",
   "id": "a56bcd98",
   "metadata": {},
   "source": [
    "### Question 12"
   ]
  },
  {
   "cell_type": "code",
   "execution_count": 60,
   "id": "69cfd8a6",
   "metadata": {},
   "outputs": [],
   "source": [
    "from sklearn.feature_selection import SelectFromModel\n",
    "\n",
    "selector = SelectFromModel(log1, prefit=True)"
   ]
  },
  {
   "cell_type": "code",
   "execution_count": 61,
   "id": "8bbe6186",
   "metadata": {},
   "outputs": [
    {
     "name": "stderr",
     "output_type": "stream",
     "text": [
      "/Users/jiangdonghao/Library/Python/3.9/lib/python/site-packages/sklearn/utils/validation.py:2732: UserWarning: X has feature names, but SelectFromModel was fitted without feature names\n",
      "  warnings.warn(\n",
      "/Users/jiangdonghao/Library/Python/3.9/lib/python/site-packages/sklearn/utils/validation.py:2732: UserWarning: X has feature names, but SelectFromModel was fitted without feature names\n",
      "  warnings.warn(\n"
     ]
    }
   ],
   "source": [
    "X_train_sel = selector.transform(X_train)\n",
    "X_test_sel = selector.transform(X_test)"
   ]
  },
  {
   "cell_type": "code",
   "execution_count": 62,
   "id": "237e763f",
   "metadata": {},
   "outputs": [
    {
     "data": {
      "image/png": "[encoded data removed]",
      "text/plain": [
       "<Figure size 640x480 with 1 Axes>"
      ]
     },
     "metadata": {},
     "output_type": "display_data"
    }
   ],
   "source": [
    "from sklearn import neighbors\n",
    "\n",
    "k_range = range(1, 8)\n",
    "scores = [] \n",
    "\n",
    "for k in k_range:\n",
    "    knn = neighbors.KNeighborsClassifier(n_neighbors=k)\n",
    "    knn.fit(X_train_sel, y_train)\n",
    "    y_pred = knn.predict(X_test_sel)\n",
    "    scores.append(round(metrics.accuracy_score(y_test, y_pred),2))\n",
    "    \n",
    "plt.plot(k_range, scores)\n",
    "plt.xlabel('K')\n",
    "plt.ylabel('Test set accuracy')\n",
    "plt.xticks(range(1,8))\n",
    "plt.show()"
   ]
  },
  {
   "cell_type": "code",
   "execution_count": 63,
   "id": "7c03ba9f",
   "metadata": {},
   "outputs": [],
   "source": [
    "knn3 = neighbors.KNeighborsClassifier(n_neighbors=3)\n",
    "knn3.fit(X_train_sel, y_train)\n",
    "y_pred3 = knn3.predict(X_test_sel)"
   ]
  },
  {
   "cell_type": "markdown",
   "id": "97aaeace",
   "metadata": {},
   "source": [
    "\n",
    "### Question 13"
   ]
  },
  {
   "cell_type": "code",
   "execution_count": 69,
   "id": "c7d15568",
   "metadata": {},
   "outputs": [
    {
     "name": "stdout",
     "output_type": "stream",
     "text": [
      "LG Accuracy:  0.8111\n"
     ]
    }
   ],
   "source": [
    "df['y_pred'] = df.prob1.apply(lambda x: 1 if x > 0.5 else 0)\n",
    "cm1 = confusion_matrix(df.y_test, df.y_pred)\n",
    "\n",
    "total1 = sum(sum(cm1))\n",
    "\n",
    "acc_lr = (cm1[0,0]+cm1[1,1])/total1\n",
    "print ('LG Accuracy: ', round(acc_lr, 4))"
   ]
  },
  {
   "cell_type": "code",
   "execution_count": 72,
   "id": "a8a27bb4",
   "metadata": {},
   "outputs": [
    {
     "name": "stdout",
     "output_type": "stream",
     "text": [
      "LG AUC:  0.8914\n"
     ]
    }
   ],
   "source": [
    "auc_lr = roc_auc_score(df.y_test, df.prob1)\n",
    "print('LG AUC: ', round(auc_lr, 4))"
   ]
  },
  {
   "cell_type": "code",
   "execution_count": 73,
   "id": "81c67823",
   "metadata": {},
   "outputs": [
    {
     "name": "stdout",
     "output_type": "stream",
     "text": [
      "KNN (all features) Accuracy:  0.8222\n"
     ]
    }
   ],
   "source": [
    "acc_knn7 = accuracy_score(y_test, y_pred7)\n",
    "print ('KNN (all features) Accuracy: ', round(acc_knn7, 4))"
   ]
  },
  {
   "cell_type": "code",
   "execution_count": 74,
   "id": "a529fd5a",
   "metadata": {},
   "outputs": [
    {
     "name": "stdout",
     "output_type": "stream",
     "text": [
      "KNN (all features) Accuracy:  0.8824\n"
     ]
    }
   ],
   "source": [
    "auc_knn7 = roc_auc_score(y_test, knn7.predict_proba(X_test)[:, 1])\n",
    "print ('KNN (all features) Accuracy: ', round(auc_knn7, 4))"
   ]
  },
  {
   "cell_type": "code",
   "execution_count": 75,
   "id": "2edbbdfd",
   "metadata": {},
   "outputs": [
    {
     "name": "stdout",
     "output_type": "stream",
     "text": [
      "KNN (selected features) Accuracy:  0.7889\n"
     ]
    }
   ],
   "source": [
    "acc_knn3 = accuracy_score(y_test, y_pred3)\n",
    "print ('KNN (selected features) Accuracy: ', round(acc_knn3, 4))"
   ]
  },
  {
   "cell_type": "code",
   "execution_count": 76,
   "id": "e87f6c64",
   "metadata": {},
   "outputs": [
    {
     "name": "stdout",
     "output_type": "stream",
     "text": [
      "KNN (selected features) Accuracy:  0.7652\n"
     ]
    }
   ],
   "source": [
    "auc_knn3 = roc_auc_score(y_test, knn3.predict_proba(X_test_sel)[:, 1])\n",
    "print ('KNN (selected features) Accuracy: ', round(auc_knn3, 4))"
   ]
  },
  {
   "cell_type": "markdown",
   "id": "24bbe794",
   "metadata": {},
   "source": [
    "Model    K value   Accuracy     ROC-AUC\n",
    "Logistic Regression none 0.8111   0.8914\n",
    "KNN (all features) K = 7  0.8222   0.8824 \n",
    "KNN (selected features) K = 3  0.7889 0.7652\n",
    "\n",
    "`KNN with all features (K = 7)` has the highest accuracy, however `Logistic Regression` has the highest ROC-AUC. By contract, `KNN with selected features (K = 3)` performed worst, especially in terms of AUC, it only has 0.7652. This may due to we removed some important features for KNN.\n",
    "\n",
    "Thus, KNN model has a better accuracy, `Logistic Regression` is the best model due to it is good on both performance and interpretability.\n",
    "\n",
    "### Question 14"
   ]
  },
  {
   "cell_type": "markdown",
   "id": "2b4c4c1d",
   "metadata": {},
   "source": []
  }
 ],
 "metadata": {
  "kernelspec": {
   "display_name": "Python 3",
   "language": "python",
   "name": "python3"
  },
  "language_info": {
   "codemirror_mode": {
    "name": "ipython",
    "version": 3
   },
   "file_extension": ".py",
   "mimetype": "text/x-python",
   "name": "python",
   "nbconvert_exporter": "python",
   "pygments_lexer": "ipython3",
   "version": "3.9.6"
  }
 },
 "nbformat": 4,
 "nbformat_minor": 5
}
