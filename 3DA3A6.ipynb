{
 "cells": [
  {
   "cell_type": "code",
   "execution_count": null,
   "id": "4bc4b1ac",
   "metadata": {
    "vscode": {
     "languageId": "plaintext"
    }
   },
   "outputs": [],
   "source": [
    "---\n",
    "title: STATS 3DA3\n",
    "subtitle: Homework Assignment 6\n",
    "author: \"Sirun Jing (400257034), Donghao Jiang (400368049)\"\n",
    "date: 04/14/2025\n",
    "format: \n",
    "  pdf:\n",
    "    number-sections: false\n",
    "    keep-tex: true\n",
    "    latex-engine: pdflatex\n",
    "    fontsize: 11pt\n",
    "    mainfont: \"Times New Roman\"\n",
    "    monofont: \"Courier New\" \n",
    "    geometry: margin=1in\n",
    "    linestretch: 1.5\n",
    "    highlight-style: tango\n",
    "    include-in-header:\n",
    "      - text: |\n",
    "          \\usepackage{fvextra} \n",
    "          \\DefineVerbatimEnvironment{Highlighting}{Verbatim}{breaklines,commandchars=\\\\\\{\\}}\n",
    "header-includes:\n",
    "   - \\usepackage{amsmath}\n",
    "   - \\usepackage{bbm}\n",
    "   - \\usepackage{array}\n",
    "   - \\usepackage{multirow}\n",
    "   - \\usepackage{graphicx}\n",
    "   - \\usepackage{float}\n",
    "   - \\usepackage{apacite}\n",
    "   - \\usepackage{natbib}\n",
    "execute: \n",
    "  echo: true\n",
    "---\n"
   ]
  },
  {
   "cell_type": "code",
   "execution_count": null,
   "id": "c07e49d7",
   "metadata": {
    "vscode": {
     "languageId": "plaintext"
    }
   },
   "outputs": [],
   "source": []
  }
 ],
 "metadata": {
  "language_info": {
   "name": "python"
  }
 },
 "nbformat": 4,
 "nbformat_minor": 5
}
